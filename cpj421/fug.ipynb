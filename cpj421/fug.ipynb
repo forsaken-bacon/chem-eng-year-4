{
 "cells": [
  {
   "cell_type": "code",
   "execution_count": 282,
   "id": "5309b05b-c9b1-4fa9-a96b-2578a769e1ee",
   "metadata": {},
   "outputs": [],
   "source": [
    "from scipy.integrate import solve_ivp, quad\n",
    "from scipy.optimize import fsolve\n",
    "from matplotlib import pyplot as plt\n",
    "import numpy as np\n",
    "import matplotlib as mpl\n",
    "%matplotlib inline\n",
    "mpl.rcParams['font.serif'] =\"Cambria\"\n",
    "mpl.rcParams['font.family'] =\"serif\"\n",
    "mpl.rcParams['font.size']=\"16\""
   ]
  },
  {
   "cell_type": "markdown",
   "id": "ab0338b0-c975-40d3-9ed1-cb00571519f9",
   "metadata": {},
   "source": [
    "# Thermodynamic parameters"
   ]
  },
  {
   "cell_type": "code",
   "execution_count": 324,
   "id": "df365445-e6ad-459d-8a61-debd9242139c",
   "metadata": {},
   "outputs": [
    {
     "data": {
      "text/plain": [
       "array([578.84305124, 245.14279014, 160.18018268,  26.87138091,\n",
       "        11.17752568])"
      ]
     },
     "execution_count": 324,
     "metadata": {},
     "output_type": "execute_result"
    }
   ],
   "source": [
    "Psat_constants_but = [51.836, -4019.2, -4.5229, 4.8833e-17, 6]\n",
    "Psat_constants_ace = [193.69, -8036.7, -29.502, 4.3678e-2,  1]\n",
    "Psat_constants_dee = [136.9,  -6954.3, -19.254, 2.4508e-2,  1]\n",
    "Psat_constants_etn = [73.304, -7122.3, -7.1424, 2.8853e-6,  2]\n",
    "Psat_constants_wat = [73.649, -7258.2, -7.3037, 4.16533e-6, 2]\n",
    "\n",
    "def Psat_fn(Psat_constants, T):\n",
    "    C1, C2, C3, C4, C5 = Psat_constants\n",
    "    return np.e**(C1 + C2/T + C3*np.log(T) + C4*T**C5) # Pa\n",
    "def Psats_fn(T):\n",
    "    return [Psat_fn(Psat_constants, T) for Psat_constants in [Psat_constants_but, Psat_constants_ace, Psat_constants_dee, Psat_constants_etn, Psat_constants_wat]]\n",
    "z = Psats_fn(48+273.15)\n",
    "np.array(z)/1000"
   ]
  },
  {
   "cell_type": "code",
   "execution_count": 331,
   "id": "328300c4-9a6b-43cc-b2fd-08a75d7f002e",
   "metadata": {},
   "outputs": [
    {
     "data": {
      "text/plain": [
       "array([18.67180327, 24.01864521, 25.86993485, 41.07003074, 43.01156116])"
      ]
     },
     "execution_count": 331,
     "metadata": {},
     "output_type": "execute_result"
    }
   ],
   "source": [
    "Cp_v_constants_but = [0.64257e5, 2.0618e5, 1.6768e3, 1.3324e5,  757.06]\n",
    "Cp_v_constants_ace = [0.4451e5,  1.0687e5, 1.6141e3, 0.6135e5,  737.8]\n",
    "Cp_v_constants_dee = [0.8621e5,  2.551e5,  1.5413e3, 1.437e5,   688.9]\n",
    "Cp_v_constants_etn = [0.492e5,   1.4577e5, 1.6628e3, 0.939e5,   744.7]\n",
    "Cp_v_constants_wat = [0.33363e5, 0.2679e5, 2.6105e3, 0.08896e5, 1169]\n",
    "\n",
    "Cp_l_constants_but = [182050, -1611,   11.963,    -0.037454, 4.5027e-5]\n",
    "Cp_l_constants_ace = [115100, -433,    1.425,     0,         0]\n",
    "Cp_l_constants_dee = [44400,  1301,    -5.5,      0.008763,  0]\n",
    "Cp_l_constants_etn = [102640, -139.63, -0.030341, 0.0020386, 0]\n",
    "Cp_l_constants_wat = [276370, -2090.1, 8.125,     -0.014116, 9.3701e-6]\n",
    "\n",
    "\n",
    "λ_constants_but = [3.3774e7,  0.5107,  -0.17304,  0.05181, 419.5]\n",
    "λ_constants_ace = [3.8366e7,  0.40081, 0,         0,       466]\n",
    "λ_constants_dee = [4.06e7   , 0.3868,  0,         0,       466.7]\n",
    "λ_constants_etn = [5.5789e7,  0.31245, 0,         0,       514]\n",
    "λ_constants_wat = [5.2053e7,  0.3199,  -0.212,    0.25795, 647.096]\n",
    "\n",
    "def Cp_v_component_fn(Cp_v_constants, T):\n",
    "    C1, C2, C3, C4, C5 = Cp_v_constants\n",
    "    return (C1 + C2*((C3/T)/(np.sinh(C3/T)))**2 + C4*((C5/T)/(np.cosh(C5/T)))**2)*1e-3 # J.mol.K-1\n",
    "\n",
    "def Cp_l_mix_fn(mol_fracs, T):\n",
    "    Cps = [Cp_l_component_fn(Cp_l_constants, T) for Cp_l_constants in [Cp_l_constants_but, Cp_l_constants_ace, Cp_l_constants_dee, Cp_l_constants_etn, Cp_l_constants_wat]]\n",
    "    return np.sum(np.array(mol_fracs)*np.array(Cps)) # J.mol.K-1\n",
    "\n",
    "def Cp_l_component_fn(Cp_l_constants, T):\n",
    "    C1, C2, C3, C4, C5 = Cp_l_constants\n",
    "    return (C1 + C2*T + C3*T**2 + C4*T**3 + C5*T**4)*1e-3 # J.mol.K-1\n",
    "\n",
    "def λ_component_fn(λ_constants, T): # 2-155\n",
    "    C1, C2, C3, C4, Tc = λ_constants\n",
    "    Tr = T/Tc\n",
    "    return C1*(1 - Tr)**(C2 + C3*Tr + C4*Tr**2)*1e-3 # J.mol-1\n",
    "\n",
    "def λs_fn(T):\n",
    "    return [λ_component_fn(λ_constants, T) for λ_constants in [λ_constants_but, λ_constants_ace, λ_constants_dee, λ_constants_etn, λ_constants_wat]]\n",
    "\n",
    "def hls_fn(T1, T2):\n",
    "    return [quad(lambda T: Cp_l_component_fn(Cp_l_constants, T), T1, T2)[0] for Cp_l_constants in [Cp_l_constants_but , Cp_l_constants_ace , Cp_l_constants_dee , Cp_l_constants_etn , Cp_l_constants_wat]]\n",
    "\n",
    "def Hvs_fn(T1, T2):\n",
    "    return [quad(lambda T: Cp_v_component_fn(Cp_v_constants, T), T1, T2)[0] for Cp_v_constants in [Cp_v_constants_but , Cp_v_constants_ace , Cp_v_constants_dee , Cp_v_constants_etn , Cp_v_constants_wat]]\n",
    "np.array(λs_fn(48 + 273.15))/1000"
   ]
  },
  {
   "cell_type": "code",
   "execution_count": 285,
   "id": "23f23d71-a6ad-41a6-ad69-a901664e84f9",
   "metadata": {},
   "outputs": [],
   "source": [
    "def α_fn(T): # wat as reference\n",
    "    return Psat_fn(Psat_constants_but, T)/Psat_fn(Psat_constants_wat, T), Psat_fn(Psat_constants_ace, T)/Psat_fn(Psat_constants_wat, T), Psat_fn(Psat_constants_dee, T)/Psat_fn(Psat_constants_wat, T), Psat_fn(Psat_constants_etn, T)/Psat_fn(Psat_constants_wat, T), 1 \n",
    "\n",
    "def solve_T_bubble_fn(var, *args):\n",
    "    T = var\n",
    "    xs, P = args\n",
    "    return (Psat_fn(Psat_constants_but, T)*xs[0] + Psat_fn(Psat_constants_ace, T)*xs[1] + Psat_fn(Psat_constants_dee, T)*xs[2] + Psat_fn(Psat_constants_etn, T)*xs[3] + Psat_fn(Psat_constants_wat, T)*xs[4] - P)*1e-5\n",
    "\n",
    "def solve_T_dew_fn(var, *args):\n",
    "    T = var\n",
    "    xs, P = args\n",
    "    return xs[0]*P/Psat_fn(Psat_constants_but, T) + xs[1]*P/Psat_fn(Psat_constants_ace, T) + xs[2]*P/Psat_fn(Psat_constants_dee, T) + xs[3]*P/Psat_fn(Psat_constants_etn, T) + xs[4]*P/Psat_fn(Psat_constants_wat, T) - 1"
   ]
  },
  {
   "cell_type": "markdown",
   "id": "4e0c7db4-f231-47b1-b79f-7cbf22ca2f90",
   "metadata": {},
   "source": [
    "# FUG simulation"
   ]
  },
  {
   "cell_type": "code",
   "execution_count": 286,
   "id": "0c45083f-7fe2-4389-88e2-249869095b53",
   "metadata": {},
   "outputs": [
    {
     "data": {
      "text/plain": [
       "321.15"
      ]
     },
     "execution_count": 286,
     "metadata": {},
     "output_type": "execute_result"
    }
   ],
   "source": [
    "xd_wat = 0.01 # mole frac HK in D\n",
    "xb_etn = 0.0002/2 # mole frac LK in B\n",
    "\n",
    "F_but = 0.040180281893826955 # mol.s-1\n",
    "F_ace = 0.0035030494427545906 # mol.s-1\n",
    "F_dee = 0.021874672321246194 # mol.s-1\n",
    "F_etn = 0.0563584110070789 # mol.s-1\n",
    "F_wat = 0.8711558838955872 # mol.s-1 \n",
    "\n",
    "Tf = 48 + 273.15\n",
    "Pf = 1.3*1e5 # Pa\n",
    "#Pf = 1.3e5\n",
    "\n",
    "M = np.mean([1.05, 1.25])\n",
    "Tf"
   ]
  },
  {
   "cell_type": "code",
   "execution_count": 287,
   "id": "d4aeb3a3-c2e0-4715-85b1-e2761da57f14",
   "metadata": {},
   "outputs": [],
   "source": [
    "F_total = sum([F_but, F_ace, F_dee, F_etn, F_wat])\n",
    "zs = z_but, z_ace, z_dee, z_etn, z_wat = np.array([F_but, F_ace, F_dee, F_etn, F_wat])/F_total\n",
    "αs = α_fn(Tf)\n",
    "αab = αs[3]\n",
    "#αs = [5.31804/0.873626, 3.59671/0.873626, 2.45508/0.873626, 1.72072/0.873626, 1]"
   ]
  },
  {
   "cell_type": "code",
   "execution_count": 288,
   "id": "32e0452d-3dc5-4b78-960a-6331b0652e27",
   "metadata": {},
   "outputs": [
    {
     "data": {
      "text/plain": [
       "(array([0.04046058, 0.00352749, 0.02202727, 0.05675157, 0.87723309]),\n",
       " 3.575060274817778,\n",
       " 22.475968520962212)"
      ]
     },
     "execution_count": 288,
     "metadata": {},
     "output_type": "execute_result"
    }
   ],
   "source": [
    "MM_etn = 46.068\n",
    "MM_ace = 44.053\n",
    "MM_dee = 74.122\n",
    "MM_wat = 18.015\n",
    "MM_but = 56.106\n",
    "MM_list = [MM_but, MM_ace, MM_dee, MM_etn, MM_wat]\n",
    "zs, F_total*3.6, sum(np.array(MM_list)*np.array(zs))"
   ]
  },
  {
   "cell_type": "markdown",
   "id": "554022b8-d597-44f7-988b-be3354aac1ae",
   "metadata": {},
   "source": [
    "## Mass balance"
   ]
  },
  {
   "cell_type": "code",
   "execution_count": 289,
   "id": "8d6c2354-bb48-4e87-90e1-7079c70aa96c",
   "metadata": {},
   "outputs": [],
   "source": [
    "def solve_D_fn(var, *args):\n",
    "    D = var\n",
    "    F_total = args\n",
    "    return (F_but + F_ace + F_dee)/D + (F_etn - xb_etn*(F_total - D))/D + xd_wat - 1"
   ]
  },
  {
   "cell_type": "code",
   "execution_count": 290,
   "id": "c26a55f9-598b-4865-a1eb-4bf24730e52f",
   "metadata": {},
   "outputs": [
    {
     "data": {
      "text/plain": [
       "(0.1230600135721291, 0.8700122849883647, 0.457268028380297, 0.9999)"
      ]
     },
     "execution_count": 290,
     "metadata": {},
     "output_type": "execute_result"
    }
   ],
   "source": [
    "xb_wat = 1 - xb_etn\n",
    "D = fsolve(solve_D_fn, [F_total/2], args=(F_total))[0]\n",
    "B = F_total - D\n",
    "\n",
    "xb_wat = 1 - xb_etn\n",
    "xd_but = F_but/D\n",
    "xd_ace = F_ace/D\n",
    "xd_dee = F_dee/D\n",
    "xd_etn = (F_etn - xb_etn*(F_total - D))/D\n",
    "\n",
    "xds = [xd_but, xd_ace, xd_dee, xd_etn, xd_wat]\n",
    "xbs = [0, 0, 0, xb_etn, xb_wat]\n",
    "D, B, xd_etn, xb_wat"
   ]
  },
  {
   "cell_type": "code",
   "execution_count": 291,
   "id": "a07b0dc3-8bcc-4897-b71a-c9739de80b11",
   "metadata": {},
   "outputs": [
    {
     "data": {
      "text/plain": [
       "[0.32650964945876676,\n",
       " 0.028466187684120074,\n",
       " 0.1777561344768161,\n",
       " 0.457268028380297,\n",
       " 0.01]"
      ]
     },
     "execution_count": 291,
     "metadata": {},
     "output_type": "execute_result"
    }
   ],
   "source": [
    "xds"
   ]
  },
  {
   "cell_type": "markdown",
   "id": "4297a085-8f59-4d7a-8ae5-d0bd719052d0",
   "metadata": {},
   "source": [
    "## Feed quality"
   ]
  },
  {
   "cell_type": "code",
   "execution_count": 292,
   "id": "4b5861eb-ec24-4fc3-aa3d-0cf9822bfc53",
   "metadata": {},
   "outputs": [
    {
     "data": {
      "text/plain": [
       "(359.41930915343613, 1.0331859812140465e-14)"
      ]
     },
     "execution_count": 292,
     "metadata": {},
     "output_type": "execute_result"
    }
   ],
   "source": [
    "Tf_bubble = fsolve(solve_T_bubble_fn, 450, args=(zs, Pf))[0]\n",
    "Tf_bubble, solve_T_bubble_fn(Tf_bubble, zs, Pf)"
   ]
  },
  {
   "cell_type": "code",
   "execution_count": 293,
   "id": "33206843-64de-436e-8ab3-c9e4749c8069",
   "metadata": {},
   "outputs": [
    {
     "data": {
      "text/plain": [
       "1.0779006559759128"
      ]
     },
     "execution_count": 293,
     "metadata": {},
     "output_type": "execute_result"
    }
   ],
   "source": [
    "λf = np.sum(np.array(λs_fn(Tf))*zs)\n",
    "q = (np.sum(np.array(hls_fn(Tf, Tf_bubble))*zs) + λf)/λf\n",
    "q"
   ]
  },
  {
   "cell_type": "markdown",
   "id": "11be6493-0767-4265-b8b0-dae2d5e3c7a9",
   "metadata": {},
   "source": [
    "## Fenske"
   ]
  },
  {
   "cell_type": "code",
   "execution_count": 294,
   "id": "4c4642fd-d3f6-4875-917d-b8867a7b0cd6",
   "metadata": {},
   "outputs": [
    {
     "data": {
      "text/plain": [
       "14.858149269993266"
      ]
     },
     "execution_count": 294,
     "metadata": {},
     "output_type": "execute_result"
    }
   ],
   "source": [
    "Nmin = np.log((xd_etn/xd_wat)/(xb_etn/xb_wat))/np.log(αab)\n",
    "Nmin"
   ]
  },
  {
   "cell_type": "code",
   "execution_count": 295,
   "id": "36eb41df-6f7d-483b-a2a5-5eb567f4f061",
   "metadata": {},
   "outputs": [
    {
     "data": {
      "text/plain": [
       "7.479591910704064"
      ]
     },
     "execution_count": 295,
     "metadata": {},
     "output_type": "execute_result"
    }
   ],
   "source": [
    "Nfmin = np.log((xd_etn/xd_wat)/(z_etn/z_wat))/np.log(αab)\n",
    "Nfmin"
   ]
  },
  {
   "cell_type": "markdown",
   "id": "6d99e730-228e-4571-81ab-f30193ae7940",
   "metadata": {},
   "source": [
    "## Underwood"
   ]
  },
  {
   "cell_type": "code",
   "execution_count": 296,
   "id": "c09c2776-94ee-406f-b4a6-21e54bee2c1d",
   "metadata": {},
   "outputs": [
    {
     "name": "stdout",
     "output_type": "stream",
     "text": [
      "passed\n"
     ]
    },
    {
     "data": {
      "text/plain": [
       "(2.1752845513743004, -5.287437154777308e-15)"
      ]
     },
     "execution_count": 296,
     "metadata": {},
     "output_type": "execute_result"
    }
   ],
   "source": [
    "ΔVf = F_total*(1 - q)\n",
    "def solve_φ_fn(φ):\n",
    "    return np.sum([αs[i]*F_total*zs[i]/(αs[i] - φ) for i in range(len(zs))]) - ΔVf\n",
    "φ = fsolve(solve_φ_fn, np.mean([αab, 1]))[0]\n",
    "if (φ > 1) and (φ < αab):\n",
    "    print('passed')\n",
    "φ, solve_φ_fn(φ)"
   ]
  },
  {
   "cell_type": "code",
   "execution_count": 297,
   "id": "9653972a-4fe1-413e-b304-bb81f8484234",
   "metadata": {},
   "outputs": [
    {
     "data": {
      "text/plain": [
       "0.6619074469649162"
      ]
     },
     "execution_count": 297,
     "metadata": {},
     "output_type": "execute_result"
    }
   ],
   "source": [
    "Vmin = sum([αs[i]*D*xds[i]/(αs[i] - φ) for i in range(len(xds))])\n",
    "Vmin"
   ]
  },
  {
   "cell_type": "code",
   "execution_count": 298,
   "id": "18260ed9-49d1-4c8d-8c06-895440047ce9",
   "metadata": {},
   "outputs": [
    {
     "data": {
      "text/plain": [
       "4.378736989793624"
      ]
     },
     "execution_count": 298,
     "metadata": {},
     "output_type": "execute_result"
    }
   ],
   "source": [
    "Lmin = Vmin - D\n",
    "rmin = Lmin/D\n",
    "rmin"
   ]
  },
  {
   "cell_type": "code",
   "execution_count": 299,
   "id": "3ea16f6a-d4ce-4950-880f-7d4bb7642275",
   "metadata": {},
   "outputs": [
    {
     "data": {
      "text/plain": [
       "5.0355475382626675"
      ]
     },
     "execution_count": 299,
     "metadata": {},
     "output_type": "execute_result"
    }
   ],
   "source": [
    "rmin*M"
   ]
  },
  {
   "cell_type": "markdown",
   "id": "ed776bf6-f38f-4023-9072-70d0880be16d",
   "metadata": {},
   "source": [
    "## Gilliland"
   ]
  },
  {
   "cell_type": "code",
   "execution_count": 300,
   "id": "169e3b8b-37b9-4708-b289-390c69c01ddc",
   "metadata": {},
   "outputs": [
    {
     "data": {
      "text/plain": [
       "0.10882368903652215"
      ]
     },
     "execution_count": 300,
     "metadata": {},
     "output_type": "execute_result"
    }
   ],
   "source": [
    "abscissa = (M - 1)/(1/rmin + M)\n",
    "abscissa"
   ]
  },
  {
   "cell_type": "code",
   "execution_count": 301,
   "id": "1e4383d4-c06d-4474-8f4b-b2018dc17a90",
   "metadata": {},
   "outputs": [
    {
     "data": {
      "text/plain": [
       "(0.10882368903652215, 0.5066721851560037)"
      ]
     },
     "execution_count": 301,
     "metadata": {},
     "output_type": "execute_result"
    }
   ],
   "source": [
    "#y = 1 - np.exp((1 + 54.4*abscissa)/(11 + 117.2*abscissa)*((abscissa - 1)/np.sqrt(abscissa)))\n",
    "y = 0.545827 - 0.591422*abscissa + 0.002743/abscissa\n",
    "abscissa, y"
   ]
  },
  {
   "cell_type": "code",
   "execution_count": 302,
   "id": "73ad214c-17b5-45ad-b0c7-69692a223316",
   "metadata": {},
   "outputs": [
    {
     "data": {
      "text/plain": [
       "31.14525674983083"
      ]
     },
     "execution_count": 302,
     "metadata": {},
     "output_type": "execute_result"
    }
   ],
   "source": [
    "N_total = (-Nmin - y)/(y - 1)\n",
    "N_total"
   ]
  },
  {
   "cell_type": "markdown",
   "id": "e99014b9-af24-4e61-89d1-4914518ed2cf",
   "metadata": {},
   "source": [
    "## Kirkbride"
   ]
  },
  {
   "cell_type": "code",
   "execution_count": 303,
   "id": "30824651-05d9-4f91-af3b-12fa7694cc7d",
   "metadata": {},
   "outputs": [
    {
     "data": {
      "text/plain": [
       "8.116824026479774"
      ]
     },
     "execution_count": 303,
     "metadata": {},
     "output_type": "execute_result"
    }
   ],
   "source": [
    "rhs = (z_wat/z_etn*(xb_etn/xd_wat)**2*(B/D))**0.26\n",
    "Nf = (rhs*N_total + 1)/(1 + rhs)\n",
    "Nf"
   ]
  },
  {
   "cell_type": "markdown",
   "id": "7f84c7c3-e83f-45b3-962e-45da6366dc68",
   "metadata": {},
   "source": [
    "## Duties"
   ]
  },
  {
   "cell_type": "code",
   "execution_count": 304,
   "id": "80e78ead-6b0d-4a7e-bc74-67e9156cebd2",
   "metadata": {},
   "outputs": [
    {
     "data": {
      "text/plain": [
       "(301.0215182981723,\n",
       " 342.8883477530606,\n",
       " -4.365574568510056e-16,\n",
       " -4.9960036108132044e-15)"
      ]
     },
     "execution_count": 304,
     "metadata": {},
     "output_type": "execute_result"
    }
   ],
   "source": [
    "Td_bubble = fsolve(solve_T_bubble_fn, 300, args=(xds, Pf))[0]\n",
    "Td_dew = fsolve(solve_T_dew_fn, 350, args=(xds, Pf))[0]\n",
    "Td_bubble, Td_dew, solve_T_bubble_fn(Td_bubble, xds, Pf), solve_T_dew_fn(Td_dew, xds, Pf)"
   ]
  },
  {
   "cell_type": "code",
   "execution_count": 313,
   "id": "d62b6364-7a79-4c74-ba50-606548ed4057",
   "metadata": {},
   "outputs": [
    {
     "data": {
      "text/plain": [
       "27355.092489504517"
      ]
     },
     "execution_count": 313,
     "metadata": {},
     "output_type": "execute_result"
    }
   ],
   "source": [
    "R = rmin*M\n",
    "L = R*D\n",
    "V = L + D\n",
    "λv = np.sum(np.array(λs_fn(Td_dew))*xds)\n",
    "Qcond = V*λv + quad(lambda T: Cp_l_mix_fn(xds, T), Td_bubble, Td_dew)[0]\n",
    "Qcond"
   ]
  },
  {
   "cell_type": "code",
   "execution_count": null,
   "id": "c4a7d794-54d7-4800-92a8-6a7f2fb9057c",
   "metadata": {},
   "outputs": [
    {
     "data": {
      "text/plain": [
       "(380.3092961237204, 5.551115123125783e-15)"
      ]
     },
     "execution_count": 306,
     "metadata": {},
     "output_type": "execute_result"
    }
   ],
   "source": [
    "Tb_dew = fsolve(solve_T_dew_fn, 380, args=([0, 0, 0, 0, 1], Pf))[0]\n",
    "Tb_dew, solve_T_dew_fn(Tb_dew, [0, 0, 0, 0, 1], Pf)"
   ]
  },
  {
   "cell_type": "code",
   "execution_count": 320,
   "id": "d8f6214c-487a-4e1a-aebf-bd2b4f2c7d62",
   "metadata": {},
   "outputs": [
    {
     "data": {
      "text/plain": [
       "33179.56736726744"
      ]
     },
     "execution_count": 320,
     "metadata": {},
     "output_type": "execute_result"
    }
   ],
   "source": [
    "L_bar = L + q*F_total\n",
    "V_bar = L_bar + V - F_total - L\n",
    "\n",
    "λl = λ_component_fn(λ_constants_wat,Tb_dew)\n",
    "Qboil = V_bar*λl\n",
    "Qboil"
   ]
  },
  {
   "cell_type": "code",
   "execution_count": 281,
   "id": "f3170bf4-39e8-4f9f-9377-ff2dc74a45da",
   "metadata": {},
   "outputs": [
    {
     "data": {
      "text/plain": [
       "1.690107830451569"
      ]
     },
     "execution_count": 281,
     "metadata": {},
     "output_type": "execute_result"
    }
   ],
   "source": [
    "L_bar"
   ]
  },
  {
   "cell_type": "code",
   "execution_count": 312,
   "id": "5a524108-aabb-4af7-86f8-940705d26963",
   "metadata": {},
   "outputs": [
    {
     "data": {
      "text/plain": [
       "[0.32650964945876676,\n",
       " 0.028466187684120074,\n",
       " 0.1777561344768161,\n",
       " 0.457268028380297,\n",
       " 0.01]"
      ]
     },
     "execution_count": 312,
     "metadata": {},
     "output_type": "execute_result"
    }
   ],
   "source": [
    "xds"
   ]
  },
  {
   "cell_type": "code",
   "execution_count": null,
   "id": "25e585e2-a0da-4c19-8fe9-2a68e1ec7b7c",
   "metadata": {},
   "outputs": [],
   "source": []
  }
 ],
 "metadata": {
  "kernelspec": {
   "display_name": "Python 3",
   "language": "python",
   "name": "python3"
  },
  "language_info": {
   "codemirror_mode": {
    "name": "ipython",
    "version": 3
   },
   "file_extension": ".py",
   "mimetype": "text/x-python",
   "name": "python",
   "nbconvert_exporter": "python",
   "pygments_lexer": "ipython3",
   "version": "3.8.5"
  }
 },
 "nbformat": 4,
 "nbformat_minor": 5
}
